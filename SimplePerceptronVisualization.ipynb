{
 "cells": [
  {
   "cell_type": "markdown",
   "metadata": {},
   "source": [
    "## Visualization of a perceptron\n",
    "#### Animated visualization of a perceptron training to be a logical AND gate"
   ]
  },
  {
   "cell_type": "markdown",
   "metadata": {},
   "source": [
    "This is my take and twitch on a lab I did when studying a nanodegree course on AI programming in python.<br>\n",
    "I wanted to get a better sens for whats going on so I tried to set up a debugged animation of a single perceptron model with linear activation function training to understand logical <b>AND</b>."
   ]
  },
  {
   "cell_type": "markdown",
   "metadata": {},
   "source": [
    "$\\vec{h} = \\phi(\\vec{x}W^1)$"
   ]
  },
  {
   "cell_type": "markdown",
   "metadata": {},
   "source": [
    "$\\begin{bmatrix}h'_1 & h'_2 & h'_3\\end{bmatrix}$ =\n",
    "$\\begin{bmatrix}x_{1}&x_{2}&x_{3}\\dots\\dots & x_n\\end{bmatrix}$\n",
    "$\\cdot$ \n",
    "$\\begin{bmatrix}W_{11}&W_{12}&W_{13}\\\\W_{21}&W_{22}&W_{23}\\\\\\vdots&&\\\\W_{n1}&W_{n2}&W_{n3}\\end{bmatrix}$"
   ]
  },
  {
   "cell_type": "markdown",
   "metadata": {},
   "source": [
    "\n",
    "<table>\n",
    "<tr><th colspan=3>Logical AND</th></tr>\n",
    "<tr><td>0</td><td>0</td><td>= 0</td></tr>\n",
    "<tr><td>1</td><td>0</td><td>= 0</td></tr>\n",
    "<tr><td>0</td><td>1</td><td>= 0</td></tr>\n",
    "<tr><td>1</td><td>1</td><td>= 1</td></tr>\n",
    "</table>\n"
   ]
  },
  {
   "cell_type": "code",
   "execution_count": 88,
   "metadata": {},
   "outputs": [],
   "source": [
    "import numpy as np\n",
    "import seaborn as sns\n",
    "import matplotlib.pyplot as plt\n",
    "from IPython.display import clear_output\n",
    "sns.set()\n",
    "%matplotlib inline\n",
    "\n",
    "np.random.seed(42)"
   ]
  },
  {
   "cell_type": "code",
   "execution_count": 89,
   "metadata": {},
   "outputs": [],
   "source": [
    "# ground truth\n",
    "# input\n",
    "X = np.array([[0,0],[0,1],[1,0],[1,1]])\n",
    "# output\n",
    "y = np.array([0,0,0,1])"
   ]
  },
  {
   "cell_type": "code",
   "execution_count": 97,
   "metadata": {},
   "outputs": [],
   "source": [
    "def stepFunction(t):\n",
    "    if t >= 0:\n",
    "        return 1\n",
    "    return 0\n",
    "\n",
    "def prediction(X, W, b):\n",
    "        return stepFunction((np.matmul(X,W)+b)[0])\n",
    "\n",
    "def perceptronStep(X, y, W, b, learn_rate = 0.01):\n",
    "    debug = []\n",
    "    for i in range(len(X)):\n",
    "        y_hat = prediction(X[i],W,b)\n",
    "        debug.append(\"predicting X[{}]:{} = {}, truth: {}\".format(i,X[i],y_hat,y[i]))\n",
    "        if y[i]-y_hat == 1:\n",
    "            W[0] += X[i][0]*learn_rate\n",
    "            W[1] += X[i][1]*learn_rate\n",
    "            b += learn_rate\n",
    "        elif y[i]-y_hat == -1:\n",
    "            W[0] -= X[i][0]*learn_rate\n",
    "            W[1] -= X[i][1]*learn_rate\n",
    "            b -= learn_rate\n",
    "    return W, b, debug\n",
    "    \n",
    "# This function runs the perceptron algorithm repeatedly on the dataset,\n",
    "# and returns a few of the boundary lines obtained in the iterations,\n",
    "# for plotting purposes.\n",
    "def trainPerceptronAlgorithm(X, y, learn_rate = 0.01, num_epochs = 25):\n",
    "    x_min, x_max = min(X.T[0]), max(X.T[0])\n",
    "    y_min, y_max = min(X.T[1]), max(X.T[1])\n",
    "    W = np.array(np.random.rand(2,1))\n",
    "    b = np.random.rand(1)[0] + x_max\n",
    "    \n",
    "    min_x, max_x = x_min-2.5, x_max+2.5\n",
    "    min_y, max_y = y_min-2.5, y_max+2.5\n",
    "    \n",
    "    pline = np.arange(min_x,max_x,0.25)\n",
    "    init_w = W.copy()\n",
    "    init_b = b\n",
    "    \n",
    "    # These are the solution lines that get plotted below.\n",
    "    for i in range(num_epochs):\n",
    "        # In each epoch, we apply the perceptron step.\n",
    "        W, b, debug = perceptronStep(X, y, W, b, learn_rate)\n",
    "        dstr = \"\\n\".join(debug)\n",
    "        slope = -(b/W[1])/(b/W[0])  \n",
    "        intercept = -b/W[1]\n",
    "        abline_values = [slope * i + intercept for i in pline]  \n",
    "        \n",
    "        clear_output(wait=True)\n",
    "        sns.swarmplot(x=X.T[0], y=X.T[1],hue=y,palette=sb.xkcd_palette(['red','blue']))\n",
    "        plt.plot(pline, abline_values, '--')     \n",
    "        plt.xlim(min_x,max_x)\n",
    "        plt.ylim(min_y,max_y)\n",
    "        \n",
    "        plt.title(\"epoch: {:02d}\\n init: [{},{}], {}\\nweights: [{},{},{:10f}]\\n{}\".format(\n",
    "            i+1,\n",
    "            init_w[0],init_w[1],\n",
    "            init_b,\n",
    "            W[0],W[1],\n",
    "            b,dstr))\n",
    "        plt.show()  "
   ]
  },
  {
   "cell_type": "code",
   "execution_count": 98,
   "metadata": {},
   "outputs": [
    {
     "data": {
      "image/png": "[encoded data removed]",
      "text/plain": [
       "<matplotlib.figure.Figure at 0xb7ae828>"
      ]
     },
     "metadata": {},
     "output_type": "display_data"
    }
   ],
   "source": [
    "trainPerceptronAlgorithm(X,y,num_epochs=200, learn_rate=0.01)"
   ]
  },
  {
   "cell_type": "code",
   "execution_count": null,
   "metadata": {},
   "outputs": [],
   "source": []
  }
 ],
 "metadata": {
  "kernelspec": {
   "display_name": "Python [conda env:anaconda3]",
   "language": "python",
   "name": "conda-env-anaconda3-py"
  },
  "language_info": {
   "codemirror_mode": {
    "name": "ipython",
    "version": 3
   },
   "file_extension": ".py",
   "mimetype": "text/x-python",
   "name": "python",
   "nbconvert_exporter": "python",
   "pygments_lexer": "ipython3",
   "version": "3.6.3"
  }
 },
 "nbformat": 4,
 "nbformat_minor": 2
}
